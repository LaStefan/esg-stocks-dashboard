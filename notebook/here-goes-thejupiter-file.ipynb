{
 "cells": [
  {
   "cell_type": "code",
   "execution_count": 16,
   "metadata": {},
   "outputs": [],
   "source": [
    "import json\n",
    "import requests\n",
    "import pandas as pd\n",
    "\n",
    "# Load the API key from the config file\n",
    "with open('../config.json', 'r') as config_file:\n",
    "    config = json.load(config_file)\n",
    "\n",
    "# This key is used for making API requests to get data from https://www.alphavantage.co/documentation/\n",
    "api_key = config.get('ALPHAVANTAGE_API_KEY')\n",
    "\n",
    "url = 'https://www.alphavantage.co/query?function=TIME_SERIES_INTRADAY&symbol=IBM&interval=5min&apikey=K0BYMNHGN5S0P4Q3'\n",
    "r = requests.get(url)\n",
    "data = r.json()\n",
    "\n"
   ]
  },
  {
   "cell_type": "code",
   "execution_count": 17,
   "id": "70fa2663",
   "metadata": {},
   "outputs": [
    {
     "name": "stdout",
     "output_type": "stream",
     "text": [
      "                    Company   1. open   2. high    3. low  4. close 5. volume\n",
      "2024-09-27 11:20:00     IBM  222.8500  223.1400  222.8100  223.0300     44320\n",
      "2024-09-27 11:25:00     IBM  223.0000  223.1500  222.9200  222.9650     38331\n",
      "2024-09-27 11:30:00     IBM  222.9900  223.2500  222.9500  223.1000     35816\n",
      "2024-09-27 11:35:00     IBM  223.0700  223.1199  222.7700  222.7700     16504\n",
      "2024-09-27 11:40:00     IBM  222.8300  223.0500  222.6908  222.9100     19786\n",
      "...                     ...       ...       ...       ...       ...       ...\n",
      "2024-09-27 19:25:00     IBM  220.4900  220.4900  220.4855  220.4855         3\n",
      "2024-09-27 19:30:00     IBM  220.4900  220.5000  220.4900  220.5000        24\n",
      "2024-09-27 19:35:00     IBM  220.5000  220.5000  220.5000  220.5000        20\n",
      "2024-09-27 19:40:00     IBM  220.5000  220.5000  220.5000  220.5000         2\n",
      "2024-09-27 19:55:00     IBM  220.5000  220.5000  220.4100  220.4900        96\n",
      "\n",
      "[100 rows x 6 columns]\n"
     ]
    }
   ],
   "source": [
    "# Access the time series data\n",
    "time_series = data.get('Time Series (5min)', {})\n",
    "\n",
    "# Convert to DataFrame\n",
    "df = pd.DataFrame.from_dict(time_series, orient='index')\n",
    "\n",
    "# Convert index to datetime\n",
    "df.index = pd.to_datetime(df.index)\n",
    "\n",
    "# Optionally, sort the index\n",
    "df.sort_index(inplace=True)\n",
    "\n",
    "# Add the symbol as a column\n",
    "df['Company'] = 'IBM'\n",
    "# Reorder columns if needed, placing 'Symbol' at the front\n",
    "cols = ['Company'] + [col for col in df.columns if col != 'Company']\n",
    "df = df[cols]\n",
    "\n",
    "# Print the table\n",
    "print(df)"
   ]
  }
 ],
 "metadata": {
  "kernelspec": {
   "display_name": "Python 3",
   "language": "python",
   "name": "python3"
  },
  "language_info": {
   "codemirror_mode": {
    "name": "ipython",
    "version": 3
   },
   "file_extension": ".py",
   "mimetype": "text/x-python",
   "name": "python",
   "nbconvert_exporter": "python",
   "pygments_lexer": "ipython3",
   "version": "3.12.5"
  }
 },
 "nbformat": 4,
 "nbformat_minor": 5
}
